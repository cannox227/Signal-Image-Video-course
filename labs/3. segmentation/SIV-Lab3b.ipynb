{
 "cells": [
  {
   "cell_type": "markdown",
   "metadata": {
    "id": "n5vgRqHTy55O"
   },
   "source": [
    "# **Smoothing Spatial filters**"
   ]
  },
  {
   "cell_type": "markdown",
   "metadata": {
    "id": "vXSLC5C4zY-3"
   },
   "source": [
    "**Median Filter**"
   ]
  },
  {
   "cell_type": "code",
   "execution_count": 1,
   "metadata": {
    "id": "06X9ZreNzZco"
   },
   "outputs": [],
   "source": [
    "import numpy as np\n",
    "from PIL import Image\n",
    "import matplotlib.pyplot as plt\n",
    "import matplotlib.image as mpimg\n",
    "import cv2\n",
    "\n",
    "def median_filter(data, filter_size):\n",
    "    temp = []\n",
    "    indexer = filter_size // 2\n",
    "    data_final = []\n",
    "    data_final = numpy.zeros((len(data),len(data[0])))\n",
    "    for i in range(len(data)):\n",
    "\n",
    "        for j in range(len(data[0])):\n",
    "\n",
    "            for z in range(filter_size):\n",
    "                if i + z - indexer < 0 or i + z - indexer > len(data) - 1:\n",
    "                    for c in range(filter_size):\n",
    "                        temp.append(0)\n",
    "                else:\n",
    "                    if j + z - indexer < 0 or j + indexer > len(data[0]) - 1:\n",
    "                        temp.append(0)\n",
    "                    else:\n",
    "                        for k in range(filter_size):\n",
    "                            temp.append(data[i + z - indexer][j + k - indexer])\n",
    "\n",
    "            temp.sort()\n",
    "            data_final[i][j] = temp[len(temp) // 2]\n",
    "            temp = []\n",
    "    return data_final"
   ]
  },
  {
   "cell_type": "code",
   "execution_count": 2,
   "metadata": {
    "colab": {
     "base_uri": "https://localhost:8080/",
     "height": 390
    },
    "id": "Byy1jdEVzxv_",
    "outputId": "89c60888-e0fb-4191-9242-965a3cd5a317"
   },
   "outputs": [
    {
     "ename": "NameError",
     "evalue": "name 'numpy' is not defined",
     "output_type": "error",
     "traceback": [
      "\u001b[0;31m---------------------------------------------------------------------------\u001b[0m",
      "\u001b[0;31mNameError\u001b[0m                                 Traceback (most recent call last)",
      "\u001b[0;32m/var/folders/ty/m44r9s7x1sj3h37cmvtpkdc80000gn/T/ipykernel_10578/1148984161.py\u001b[0m in \u001b[0;36m<module>\u001b[0;34m\u001b[0m\n\u001b[1;32m      1\u001b[0m \u001b[0mimg\u001b[0m \u001b[0;34m=\u001b[0m \u001b[0mImage\u001b[0m\u001b[0;34m.\u001b[0m\u001b[0mopen\u001b[0m\u001b[0;34m(\u001b[0m\u001b[0;34m\"noise.png\"\u001b[0m\u001b[0;34m)\u001b[0m\u001b[0;34m\u001b[0m\u001b[0;34m\u001b[0m\u001b[0m\n\u001b[0;32m----> 2\u001b[0;31m \u001b[0marr\u001b[0m \u001b[0;34m=\u001b[0m \u001b[0mnumpy\u001b[0m\u001b[0;34m.\u001b[0m\u001b[0marray\u001b[0m\u001b[0;34m(\u001b[0m\u001b[0mimg\u001b[0m\u001b[0;34m)\u001b[0m\u001b[0;34m\u001b[0m\u001b[0;34m\u001b[0m\u001b[0m\n\u001b[0m\u001b[1;32m      3\u001b[0m \u001b[0mremoved_noise\u001b[0m \u001b[0;34m=\u001b[0m \u001b[0mmedian_filter\u001b[0m\u001b[0;34m(\u001b[0m\u001b[0marr\u001b[0m\u001b[0;34m,\u001b[0m \u001b[0;36m5\u001b[0m\u001b[0;34m)\u001b[0m\u001b[0;34m\u001b[0m\u001b[0;34m\u001b[0m\u001b[0m\n\u001b[1;32m      4\u001b[0m \u001b[0mimg1\u001b[0m \u001b[0;34m=\u001b[0m \u001b[0mImage\u001b[0m\u001b[0;34m.\u001b[0m\u001b[0mfromarray\u001b[0m\u001b[0;34m(\u001b[0m\u001b[0mremoved_noise\u001b[0m\u001b[0;34m)\u001b[0m\u001b[0;34m\u001b[0m\u001b[0;34m\u001b[0m\u001b[0m\n\u001b[1;32m      5\u001b[0m \u001b[0;34m\u001b[0m\u001b[0m\n",
      "\u001b[0;31mNameError\u001b[0m: name 'numpy' is not defined"
     ]
    }
   ],
   "source": [
    "img = Image.open(\"noise.png\")\n",
    "arr = numpy.array(img)\n",
    "removed_noise = median_filter(arr, 5) \n",
    "img1 = Image.fromarray(removed_noise)\n",
    "\n",
    "plt.figure(figsize=(15,6))\n",
    "plt.subplot(121)\n",
    "plt.title(\"Noise\")\n",
    "plt.imshow(img, cmap=\"gray\", vmin=0, vmax=255)\n",
    "plt.axis('off')\n",
    "plt.imshow(img)\n",
    "plt.subplot(122)\n",
    "plt.title(\"Median Filter\")\n",
    "plt.imshow(img1)\n",
    "plt.axis('off')"
   ]
  },
  {
   "cell_type": "markdown",
   "metadata": {
    "id": "9UDOHjVinWVN"
   },
   "source": [
    "**Averaging Filter**"
   ]
  },
  {
   "cell_type": "code",
   "execution_count": null,
   "metadata": {
    "colab": {
     "base_uri": "https://localhost:8080/",
     "height": 390
    },
    "id": "zaeLS_NanU3f",
    "outputId": "e96f66e9-f334-4567-93bb-d9e299a2ca8a"
   },
   "outputs": [],
   "source": [
    "# Read the image\n",
    "img = cv2.imread('noise.png', 0)\n",
    "m, n = img.shape\n",
    "\n",
    "# Develop Averaging filter(3, 3) mask\n",
    "mask = np.ones([3, 3], dtype = int)\n",
    "mask = mask / 9\n",
    "\n",
    "# Convolve the 3X3 mask over the image\n",
    "img_new = np.zeros([m, n])\n",
    "\n",
    "for i in range(1, m-1):\n",
    "\tfor j in range(1, n-1):\n",
    "\t\ttemp = img[i-1, j-1]*mask[0, 0]+img[i-1, j]*mask[0, 1]+img[i-1, j + 1]*mask[0, 2]+img[i, j-1]*mask[1, 0]+ img[i, j]*mask[1, 1]+img[i, j + 1]*mask[1, 2]+img[i + 1, j-1]*mask[2, 0]+img[i + 1, j]*mask[2, 1]+img[i + 1, j + 1]*mask[2, 2]\n",
    "\t\t\n",
    "\t\timg_new[i, j]= temp\n",
    "\t\t\n",
    "img_new = img_new.astype(np.uint8)\n",
    "\n",
    "\n",
    "plt.figure(figsize=(15,6))\n",
    "plt.subplot(121)\n",
    "plt.title(\"Noise\")\n",
    "plt.imshow(img, cmap=\"gray\", vmin=0, vmax=255)\n",
    "plt.axis('off')\n",
    "plt.set_cmap('gray')\n",
    "plt.imshow(img)\n",
    "plt.subplot(122)\n",
    "plt.title(\"Averaging Filter\")\n",
    "plt.imshow(img_new, cmap=\"gray\", vmin=0, vmax=255)\n",
    "plt.axis('off')\n",
    "plt.set_cmap('gray')\n",
    "plt.imshow(img_new)\n"
   ]
  },
  {
   "cell_type": "markdown",
   "metadata": {
    "id": "qvJkfZy_1hJK"
   },
   "source": [
    "# **Sharpening Spatial filters **"
   ]
  },
  {
   "cell_type": "markdown",
   "metadata": {
    "id": "IlQkDSLqxtQb"
   },
   "source": [
    "robert operator, sobel operator, and laplace operator for image sharpening and edge detection"
   ]
  },
  {
   "cell_type": "code",
   "execution_count": null,
   "metadata": {
    "colab": {
     "base_uri": "https://localhost:8080/",
     "height": 607
    },
    "id": "GAOIwXvmtsxH",
    "outputId": "ca45067d-edfa-4144-a81c-2b8c4bc7282f"
   },
   "outputs": [],
   "source": [
    "# robert operator [[-1,-1],[1,1]]\n",
    "def robert(img):\n",
    "    r, c = img.shape\n",
    "    r_sunnzi = [[-1,-1],[1,1]]\n",
    "    for x in range(r):\n",
    "        for y in range(c):\n",
    "            if (y + 2 <= c) and (x + 2 <= r):\n",
    "                imgChild = img[x:x+2, y:y+2]\n",
    "                list_robert = r_sunnzi*imgChild\n",
    "                img[x, y] = abs(list_robert.sum()) # sum and absolute value\n",
    "    return img\n",
    "                 \n",
    " # # The realization of sobel operator\n",
    "def sobel(img):\n",
    "    r, c = img.shape\n",
    "    new_image = np.zeros((r, c))\n",
    "    new_imageX = np.zeros(img.shape)\n",
    "    new_imageY = np.zeros(img.shape)\n",
    "    s_suanziX = np.array([[-1,0,1],[-2,0,2],[-1,0,1]]) # X direction\n",
    "    s_suanziY = np.array([[-1,-2,-1],[0,0,0],[1,2,1]])     \n",
    "    for i in range(r-2):\n",
    "        for j in range(c-2):\n",
    "            new_imageX[i+1, j+1] = abs(np.sum(img[i:i+3, j:j+3] * s_suanziX))\n",
    "            new_imageY[i+1, j+1] = abs(np.sum(img[i:i+3, j:j+3] * s_suanziY))\n",
    "            new_image[i+1, j+1] = (new_imageX[i+1, j+1]*new_imageX[i+1,j+1] + new_imageY[i+1, j+1]*new_imageY[i+1,j+1])**0.5\n",
    "\n",
    "    return np.uint8(new_image) # The image processed by the directionless operator\n",
    " \n",
    "# Laplace operator\n",
    "def laplace(img):\n",
    "    r, c = img.shape\n",
    "    new_image = np.zeros((r, c))\n",
    "    L_sunnzi = np.array([[0,-1,0],[-1,4,-1],[0,-1,0]])          \n",
    "    for i in range(r-2):\n",
    "        for j in range(c-2):\n",
    "            new_image[i+1, j+1] = abs(np.sum(img[i:i+3, j:j+3] * L_sunnzi))\n",
    "    return np.uint8(new_image)\n",
    " \n",
    " \n",
    "img = cv2.imread('1.jpg', cv2.IMREAD_GRAYSCALE)\n",
    "\n",
    " \n",
    "plt.figure(figsize=(15,10))\n",
    "plt.subplot(221)\n",
    "plt.title(\"Image\")\n",
    "plt.imshow(img, cmap=\"gray\", vmin=0, vmax=255)\n",
    "plt.axis('off')\n",
    "plt.set_cmap('gray')\n",
    "plt.imshow(img)\n",
    "\n",
    "plt.subplot(222)\n",
    "plt.title(\"Laplacian Operator\")\n",
    "plt.imshow(laplace(img), cmap=\"gray\", vmin=0, vmax=255)\n",
    "plt.axis('off')\n",
    "plt.set_cmap('gray')\n",
    "\n",
    "\n",
    "plt.subplot(223)\n",
    "plt.title(\"Roberts Operator\")\n",
    "plt.imshow(robert(img), cmap=\"gray\", vmin=0, vmax=255)\n",
    "plt.axis('off')\n",
    "plt.set_cmap('gray')\n",
    "\n",
    "plt.subplot(224)\n",
    "plt.title(\"Sobel Operators\")\n",
    "plt.imshow(sobel(img), cmap=\"gray\", vmin=0, vmax=255)\n",
    "plt.axis('off')\n",
    "plt.set_cmap('gray')\n"
   ]
  },
  {
   "cell_type": "markdown",
   "metadata": {
    "id": "5eGcsRR349PZ"
   },
   "source": [
    "# **Noise filters**"
   ]
  },
  {
   "cell_type": "markdown",
   "metadata": {
    "id": "k6vAs-IX6-Wh"
   },
   "source": [
    "Impulse noise, Gaussian noise, Uniform noise"
   ]
  },
  {
   "cell_type": "code",
   "execution_count": null,
   "metadata": {
    "colab": {
     "base_uri": "https://localhost:8080/",
     "height": 1000
    },
    "id": "yH76Rjr34-4a",
    "outputId": "b46d8e27-e894-44f1-ac9e-fb185535a9a4"
   },
   "outputs": [],
   "source": [
    "import numpy as np\n",
    "import matplotlib.pyplot as plt\n",
    "import imageio\n",
    "\n",
    "def uniform_noise(size, prob=0.1):\n",
    "    \n",
    "    levels = int((prob * 255) // 2)\n",
    "    noise = np.random.randint(-levels, levels, size)\n",
    "    \n",
    "    return noise\n",
    "\n",
    "\n",
    "def gaussian_noise(size, mean=0, std=0.01):\n",
    "\n",
    "    noise = np.multiply(np.random.normal(mean, std, size), 255)\n",
    "    \n",
    "    return noise\n",
    "\n",
    "\n",
    "def impulsive_noise(image, prob=0.1, mode='salt_and_pepper'):\n",
    "\n",
    "    noise = np.array(image, copy=True)\n",
    "    for x in np.arange(image.shape[0]):\n",
    "        for y in np.arange(image.shape[1]):\n",
    "            rnd = np.random.random()\n",
    "            if rnd < prob:\n",
    "                rnd = np.random.random()\n",
    "                if rnd > 0.5:\n",
    "                    noise[x,y] = 255\n",
    "                else:\n",
    "                    noise[x,y] = 0\n",
    "    \n",
    "    return noise\n",
    "\n",
    "\n",
    "img = imageio.imread(\"1.jpg\")\n",
    "np.unique(img)\n",
    "\n",
    "uni_noise = uniform_noise(img.shape, prob=0.1)\n",
    "img_uni = np.clip(img.astype(int)+uni_noise, 0, 255)\n",
    "\n",
    "hist_img,_ = np.histogram(img, bins=256, range=(0,255))\n",
    "hist_uni,_ = np.histogram(img_uni, bins=256, range=(0,255))\n",
    "\n",
    "plt.figure(figsize=(10,4))\n",
    "plt.subplot(121)\n",
    "plt.title(\"Noise Free\")\n",
    "plt.imshow(img, cmap=\"gray\", vmin=0, vmax=255)\n",
    "plt.axis('off')\n",
    "plt.subplot(122)\n",
    "plt.bar(np.arange(256), hist_img)\n",
    "\n",
    "plt.figure(figsize=(10,4))\n",
    "plt.subplot(121)\n",
    "plt.title('Uniform Noise')\n",
    "plt.imshow(img_uni, cmap=\"gray\", vmin=0, vmax=255)\n",
    "plt.axis('off')\n",
    "plt.subplot(122)\n",
    "plt.bar(np.arange(256), hist_uni)\n",
    "\n",
    "#print(np.unique(img_uni))\n",
    "\n",
    "##########################################\n",
    "\n",
    "# creating the noise matrix to be added\n",
    "gau_noise = gaussian_noise(img.shape, mean=0, std=0.05)\n",
    "\n",
    "# adding and clipping values below 0 or above 255\n",
    "img_gau = np.clip(img.astype(int)+gau_noise, 0, 255)\n",
    "\n",
    "hist_gau,_ = np.histogram(img_gau, bins=256, range=(0,255))\n",
    "\n",
    "plt.figure(figsize=(10,4))\n",
    "plt.subplot(121)\n",
    "plt.title('Gaussian Noise')\n",
    "plt.imshow(img_gau, cmap=\"gray\", vmin=0, vmax=255)\n",
    "plt.axis('off')\n",
    "plt.subplot(122)\n",
    "plt.bar(np.arange(256), hist_gau)\n",
    "\n",
    "#############################################\n",
    "\n",
    "img_imp = impulsive_noise(img, prob=0.1)\n",
    "\n",
    "hist_imp,_ = np.histogram(img_imp, bins=256, range=(0,255))\n",
    "\n",
    "plt.figure(figsize=(10,4))\n",
    "plt.subplot(121)\n",
    "plt.title('Impulsive Noise')\n",
    "plt.imshow(img_imp, cmap=\"gray\", vmin=0, vmax=255)\n",
    "plt.axis('off')\n",
    "plt.subplot(122)\n",
    "plt.bar(np.arange(256), hist_imp)"
   ]
  },
  {
   "cell_type": "markdown",
   "metadata": {
    "id": "hoFfrgC25Z3A"
   },
   "source": [
    "# **Transform /Frequency Domain filters**"
   ]
  },
  {
   "cell_type": "markdown",
   "metadata": {
    "id": "c8nldbN-5fSS"
   },
   "source": [
    "**Histogram Equalization**"
   ]
  },
  {
   "cell_type": "code",
   "execution_count": null,
   "metadata": {
    "colab": {
     "base_uri": "https://localhost:8080/",
     "height": 596
    },
    "id": "tylsGwd05dlO",
    "outputId": "72450265-a7f3-4945-a978-22d39da154a5"
   },
   "outputs": [],
   "source": [
    "def imhist(im):\n",
    "  # calculates normalized histogram of an image\n",
    "\tm, n = im.shape\n",
    "\th = [0.0] * 256\n",
    "\tfor i in range(m):\n",
    "\t\tfor j in range(n):\n",
    "\t\t\th[im[i, j]]+=1\n",
    "\treturn np.array(h)/(m*n)\n",
    "\n",
    "def cumsum(h):\n",
    "\t# finds cumulative sum of a numpy array, list\n",
    "\treturn [sum(h[:i+1]) for i in range(len(h))]\n",
    "\n",
    "def histeq(im):\n",
    "\t#calculate Histogram\n",
    "\th = imhist(im)\n",
    "\tcdf = np.array(cumsum(h)) #cumulative distribution function\n",
    "\tsk = np.uint8(255 * cdf) #finding transfer function values\n",
    "\ts1, s2 = im.shape\n",
    "\tY = np.zeros_like(im)\n",
    "\t# applying transfered values for each pixels\n",
    "\tfor i in range(0, s1):\n",
    "\t\tfor j in range(0, s2):\n",
    "\t\t\tY[i, j] = sk[im[i, j]]\n",
    "\tH = imhist(Y)\n",
    "\treturn Y , h, H, sk\n",
    "\n",
    "\n",
    "img = np.uint8(mpimg.imread('1.jpg')*255.0)\n",
    "\n",
    "img = np.uint8((0.2126* img[:,:,0]) + \\\n",
    "  \t\tnp.uint8(0.7152 * img[:,:,1]) +\\\n",
    "\t\t\t np.uint8(0.0722 * img[:,:,2]))\n",
    "\n",
    "new_img, h, new_h, sk = histeq(img)\n",
    "\n",
    "\n",
    "# plot histograms and transfer function\n",
    "fig = plt.figure()\n",
    "fig.add_subplot(221)\n",
    "plt.plot(h)\n",
    "plt.title('Original Histogram') # original histogram\n",
    "\n",
    "fig.add_subplot(222)\n",
    "plt.plot(new_h)\n",
    "plt.title('New Histogram') #hist of eqlauized image\n",
    "\n",
    "fig.add_subplot(223)\n",
    "plt.plot(sk)\n",
    "plt.title('Transfer Function') #transfer function\n",
    "plt.set_cmap('gray')\n",
    "plt.show()\n",
    "\n",
    "\n",
    "# show old and new image\n",
    "# show original image\n",
    "plt.figure(figsize=(15,6))\n",
    "plt.subplot(121)\n",
    "plt.imshow(img)\n",
    "plt.axis('off')\n",
    "plt.title('Original Image')\n",
    "\n",
    "# show original image\n",
    "plt.subplot(122)\n",
    "plt.imshow(new_img)\n",
    "plt.title('Hist. Equalized Image')\n",
    "plt.set_cmap('gray')\n",
    "plt.axis('off')\n",
    "plt.show()"
   ]
  },
  {
   "cell_type": "code",
   "execution_count": null,
   "metadata": {},
   "outputs": [],
   "source": []
  }
 ],
 "metadata": {
  "colab": {
   "collapsed_sections": [],
   "name": "Image.ipynb",
   "provenance": []
  },
  "kernelspec": {
   "display_name": "Python 3 (ipykernel)",
   "language": "python",
   "name": "python3"
  },
  "language_info": {
   "codemirror_mode": {
    "name": "ipython",
    "version": 3
   },
   "file_extension": ".py",
   "mimetype": "text/x-python",
   "name": "python",
   "nbconvert_exporter": "python",
   "pygments_lexer": "ipython3",
   "version": "3.7.3"
  }
 },
 "nbformat": 4,
 "nbformat_minor": 1
}
